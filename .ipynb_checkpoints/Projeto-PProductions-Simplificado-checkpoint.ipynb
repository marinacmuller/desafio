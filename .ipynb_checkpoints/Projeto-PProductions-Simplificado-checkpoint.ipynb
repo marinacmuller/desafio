{
 "cells": [
  {
   "cell_type": "markdown",
   "id": "e438837e",
   "metadata": {},
   "source": [
    "# Projeto PProductions\n",
    "\n",
    "Este projeto faz uma análise exploratória relacionando informações do **IMDB** com dados do **Oscar**. O objetivo é identificar conexões entre filmes de destaque e suas premiações."
   ]
  },
  {
   "cell_type": "code",
   "execution_count": null,
   "id": "03db2b6b",
   "metadata": {},
   "outputs": [],
   "source": [
    "\n",
    "# Importando bibliotecas principais\n",
    "import pandas as pd\n",
    "import matplotlib.pyplot as plt\n",
    "import seaborn as sns\n",
    "import matplotlib.cm as cm\n",
    "import matplotlib.colors as mcolors\n",
    "import numpy as np\n",
    "from collections import Counter\n",
    "import re\n",
    "\n",
    "# Configurando estilo dos gráficos\n",
    "sns.set_theme(style=\"whitegrid\")\n",
    "plt.rcParams.update({\n",
    "    \"figure.figsize\": (10,6),\n",
    "    \"axes.titlesize\": 14,\n",
    "    \"axes.labelsize\": 12,\n",
    "    \"legend.fontsize\": 10\n",
    "})\n"
   ]
  },
  {
   "cell_type": "code",
   "execution_count": null,
   "id": "c0748735",
   "metadata": {},
   "outputs": [],
   "source": [
    "\n",
    "# Carregando os dados\n",
    "imdb = pd.read_csv(\"desafio_indicium_imdb.csv\")\n",
    "oscar = pd.read_csv(\"the_oscar_award.csv\")\n",
    "\n",
    "print(f\"IMDB: {imdb.shape[0]} linhas e {imdb.shape[1]} colunas\")\n",
    "print(f\"Oscar: {oscar.shape[0]} linhas e {oscar.shape[1]} colunas\")\n"
   ]
  },
  {
   "cell_type": "code",
   "execution_count": null,
   "id": "3256579e",
   "metadata": {},
   "outputs": [],
   "source": [
    "\n",
    "# Função para normalizar títulos e nomes\n",
    "def normalize_title(title):\n",
    "    if pd.isna(title):\n",
    "        return \"\"\n",
    "    title = title.lower().strip()\n",
    "    title = re.sub(r'[^a-z0-9 ]', '', title)\n",
    "    title = re.sub(r'\\s+', ' ', title)\n",
    "    return title\n",
    "\n",
    "# Aplicando limpeza nos dados\n",
    "oscar[\"film_norm\"] = oscar[\"film\"].apply(normalize_title)\n",
    "oscar[\"name\"] = oscar[\"name\"].str.strip().str.lower()\n",
    "\n",
    "imdb[\"Series_Title_norm\"] = imdb[\"Series_Title\"].apply(normalize_title)\n",
    "imdb[\"Director\"] = imdb[\"Director\"].str.strip().str.lower()\n",
    "for col in [\"Star1\", \"Star2\", \"Star3\", \"Star4\"]:\n",
    "    imdb[col] = imdb[col].str.strip().str.lower()\n"
   ]
  },
  {
   "cell_type": "code",
   "execution_count": null,
   "id": "af1ccc4f",
   "metadata": {},
   "outputs": [],
   "source": [
    "\n",
    "# Função para checar premiação específica\n",
    "def check_oscar_specific(film_norm, person=None, tipo=\"actor\"):\n",
    "    if tipo == \"film\":\n",
    "        subset = oscar[(oscar[\"film_norm\"] == film_norm) & \n",
    "                       (oscar[\"canon_category\"] == \"BEST PICTURE\")]\n",
    "    else:  # ator ou diretor\n",
    "        subset = oscar[(oscar[\"film_norm\"] == film_norm) & (oscar[\"name\"] == person)]\n",
    "    if subset.empty:\n",
    "        return \"No\"\n",
    "    elif subset[\"winner\"].any():\n",
    "        return \"Won\"\n",
    "    else:\n",
    "        return \"Nominated\"\n",
    "\n",
    "# Criando base combinada\n",
    "imdb_oscar = imdb.copy()\n",
    "imdb_oscar[\"Oscar_Film\"] = imdb_oscar[\"Series_Title_norm\"].apply(lambda x: check_oscar_specific(x, tipo=\"film\"))\n",
    "imdb_oscar[\"Director_Oscar\"] = imdb_oscar.apply(lambda row: check_oscar_specific(row[\"Series_Title_norm\"], row[\"Director\"], tipo=\"actor\"), axis=1)\n"
   ]
  },
  {
   "cell_type": "markdown",
   "id": "2c62e4ba",
   "metadata": {},
   "source": [
    "## Exemplos de análises"
   ]
  },
  {
   "cell_type": "code",
   "execution_count": null,
   "id": "7ff9538a",
   "metadata": {},
   "outputs": [],
   "source": [
    "\n",
    "# Exemplo 1: Quantos filmes do IMDB foram indicados ou ganharam o Oscar de Melhor Filme?\n",
    "contagem_filmes = imdb_oscar[\"Oscar_Film\"].value_counts()\n",
    "\n",
    "sns.barplot(x=contagem_filmes.index, y=contagem_filmes.values, palette=\"viridis\")\n",
    "plt.title(\"Filmes do IMDB indicados ou vencedores de Melhor Filme no Oscar\")\n",
    "plt.ylabel(\"Quantidade de filmes\")\n",
    "plt.xlabel(\"Status no Oscar\")\n",
    "plt.show()\n"
   ]
  },
  {
   "cell_type": "code",
   "execution_count": null,
   "id": "ef635308",
   "metadata": {},
   "outputs": [],
   "source": [
    "\n",
    "# Exemplo 2: Diretores com mais indicações no Oscar (entre os filmes do IMDB)\n",
    "diretores_premiados = imdb_oscar[imdb_oscar[\"Director_Oscar\"] != \"No\"][\"Director\"]\n",
    "top_diretores = Counter(diretores_premiados).most_common(10)\n",
    "\n",
    "diretores, qtd = zip(*top_diretores)\n",
    "sns.barplot(x=list(qtd), y=list(diretores), palette=\"mako\")\n",
    "plt.title(\"Top 10 diretores com filmes indicados ou vencedores no Oscar\")\n",
    "plt.xlabel(\"Quantidade de indicações\")\n",
    "plt.ylabel(\"Diretor\")\n",
    "plt.show()\n"
   ]
  }
 ],
 "metadata": {},
 "nbformat": 4,
 "nbformat_minor": 5
}
